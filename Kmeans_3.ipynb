{
  "nbformat": 4,
  "nbformat_minor": 0,
  "metadata": {
    "colab": {
      "provenance": [],
      "authorship_tag": "ABX9TyMtXJsjIP7ZoaiaPHd/3IcO",
      "include_colab_link": true
    },
    "kernelspec": {
      "name": "python3",
      "display_name": "Python 3"
    },
    "language_info": {
      "name": "python"
    }
  },
  "cells": [
    {
      "cell_type": "markdown",
      "metadata": {
        "id": "view-in-github",
        "colab_type": "text"
      },
      "source": [
        "<a href=\"https://colab.research.google.com/github/Monic123-cloud/Monica/blob/main/Kmeans_3.ipynb\" target=\"_parent\"><img src=\"https://colab.research.google.com/assets/colab-badge.svg\" alt=\"Open In Colab\"/></a>"
      ]
    },
    {
      "cell_type": "code",
      "execution_count": null,
      "metadata": {
        "id": "JDkgeeKRDdA-"
      },
      "outputs": [],
      "source": [
        "def plot_data(X):\n",
        "     plt.plot(X[:, 0], X[:, 1], 'k.', markersize=2)\n",
        "\n",
        "\n",
        "\n",
        "def plot_centroids(centroids, weights=None, circle_color='w', cross_color='k'):\n",
        "\n",
        "    if weights is not None:\n",
        "\n",
        "         centroids = centroids[weights > weights.max() / 10]\n",
        "\n",
        "     plt.scatter(centroids[:, 0], centroids[:, 1],\n",
        "\n",
        "                 marker='o', s=30, linewidths=8,\n",
        "\n",
        "                 color=circle_color, zorder=10, alpha=0.9)\n",
        "\n",
        "     plt.scatter(centroids[:, 0], centroids[:, 1],\n",
        "\n",
        "                 marker='x', s=50, linewidths=50,\n",
        "\n",
        "                 color=cross_color, zorder=11, alpha=1)\n",
        "\n",
        "\n",
        "\n",
        "def plot_decision_boundaries(clusterer, X, resolution=1000, show_centroids=True,\n",
        "\n",
        "                             show_xlabels=True, show_ylabels=True):\n",
        "\n",
        "    mins = X.min(axis=0) - 0.1\n",
        "\n",
        "    maxs = X.max(axis=0) + 0.1\n",
        "\n",
        "    xx, yy = np.meshgrid(np.linspace(mins[0], maxs[0], resolution),\n",
        "\n",
        "                         np.linspace(mins[1], maxs[1], resolution))\n",
        "\n",
        "    Z = clusterer.predict(np.c_[xx.ravel(), yy.ravel()])\n",
        "\n",
        "    Z = Z.reshape(xx.shape)\n",
        "\n",
        "\n",
        "\n",
        "     plt.contourf(Z, extent=(mins[0], maxs[0], mins[1], maxs[1]),\n",
        "\n",
        "                cmap=\"Pastel2\")\n",
        "\n",
        "     plt.contour(Z, extent=(mins[0], maxs[0], mins[1], maxs[1]),\n",
        "\n",
        "                 linewidths=1, colors='k')\n",
        "\n",
        "    plot_data(X)\n",
        "\n",
        "    if show_centroids:\n",
        "\n",
        "         plot_centroids(clusterer.cluster_centers_)\n",
        "\n",
        "\n",
        "\n",
        "    if show_xlabels:\n",
        "\n",
        "        plt.xlabel(\"$x_1$\", fontsize=14)\n",
        "\n",
        "    else:\n",
        "\n",
        "         plt.tick_params(labelbottom=False)\n",
        "\n",
        "    if show_ylabels:\n",
        "\n",
        "         plt.ylabel(\"$x_2$\", fontsize=14, rotation=0)\n",
        "\n",
        "    else:\n",
        "\n",
        "         plt.tick_params(labelleft=False)"
      ]
    }
  ]
}