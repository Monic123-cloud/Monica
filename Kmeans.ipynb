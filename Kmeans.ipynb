{
  "nbformat": 4,
  "nbformat_minor": 0,
  "metadata": {
    "colab": {
      "provenance": [],
      "authorship_tag": "ABX9TyP+rN3K2uomq5k9K+1EgyBo",
      "include_colab_link": true
    },
    "kernelspec": {
      "name": "python3",
      "display_name": "Python 3"
    },
    "language_info": {
      "name": "python"
    }
  },
  "cells": [
    {
      "cell_type": "markdown",
      "metadata": {
        "id": "view-in-github",
        "colab_type": "text"
      },
      "source": [
        "<a href=\"https://colab.research.google.com/github/Monic123-cloud/Monica/blob/main/Kmeans.ipynb\" target=\"_parent\"><img src=\"https://colab.research.google.com/assets/colab-badge.svg\" alt=\"Open In Colab\"/></a>"
      ]
    },
    {
      "cell_type": "code",
      "execution_count": null,
      "metadata": {
        "id": "IsSiomEsAjjC"
      },
      "outputs": [],
      "source": [
        "from sklearn.datasets import make_blobs\n",
        "from sklearn.cluster import KMeans\n",
        "\n",
        "#Generamos el conjunto de datos\n",
        "\n",
        "X,y=make_blobs(random_state=20)\n",
        "\n",
        "#Creamos la clase KMeans y la instanciamos\n",
        "\n",
        "kmeans=KMeans(n_clusters=3)\n",
        "\n",
        "kmeans.fit(X)"
      ]
    }
  ]
}